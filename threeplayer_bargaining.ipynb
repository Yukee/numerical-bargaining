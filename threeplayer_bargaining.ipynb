{
 "cells": [
  {
   "cell_type": "code",
   "execution_count": 1,
   "id": "b7202f2f-036f-40fc-ace1-18e3864d8a60",
   "metadata": {},
   "outputs": [],
   "source": [
    "import numpy as np\n",
    "import matplotlib.pyplot as plt\n",
    "import gambit as gb\n",
    "import subprocess\n",
    "import itertools\n",
    "\n",
    "from sys import path\n",
    "path.insert(0, 'lib')\n",
    "from mediator_3player import mediator_3players\n",
    "\n",
    "%load_ext autoreload\n",
    "%autoreload 2"
   ]
  },
  {
   "cell_type": "markdown",
   "id": "1e7823c1-c2ff-4caf-99a0-04071dcdd65e",
   "metadata": {},
   "source": [
    "# Three player bargaining game\n",
    "This is a straightforward generalisation of the 2-player bargaining game to 3 players. In order to keep things simple, we follow [Gallop 2017](https://journals.sagepub.com/doi/abs/10.1177/0951629816682884?journalCode=jtpa) and assume that players bargain over a scalar policy. Note that the model in this notebook differs slightly from the one of Gallop: while Gallop's model is one-shot, in our model there can be two periods in the case where one player is eliminated in a dyadic war. In the second period, the two remaining players bargain peacefully over the policy. We're assuming here for simplicity that the two remaining players always choose the unique split that wouldn't lead to war if costs were set to zero. Other choices do not alter the results.\n",
    "\n",
    "As in the simple two-player model, using a moderator that proposes a policy $x_3$ at the start of the game. Varying the mediator's proposal allows us to explore the conditions for war and peace in a 3 player situation."
   ]
  },
  {
   "cell_type": "code",
   "execution_count": 2,
   "id": "9e01f41c-35be-4f39-b000-94204f5d5123",
   "metadata": {},
   "outputs": [],
   "source": [
    "def get_payoffs(pure_profiles):\n",
    "    payoffs = []\n",
    "    for profile in pure_profiles:\n",
    "        f = sum(profile.payoff())\n",
    "        payoffs.append(float(f))\n",
    "    return np.array(payoffs)\n",
    "\n",
    "def is_peaceful(profile):\n",
    "    return (profile[0] == 1) and (profile[3] == 1) and (profile[6] == 1)\n",
    "\n",
    "def get_maxpayoff(profiles):\n",
    "    V = get_payoffs(profiles)\n",
    "    i = np.argmax(V)\n",
    "    return V[i], is_peaceful(profiles[i]), profiles[i]\n",
    "\n",
    "def get_profiles(G):\n",
    "    return gb.nash.enumpure_solve(G._g, use_strategic=True)\n",
    "\n",
    "def analyse(m, c, x, x3):\n",
    "    G = mediator_3players(m, c, x, x3)\n",
    "    profiles = get_profiles(G)\n",
    "    return get_maxpayoff(profiles)"
   ]
  },
  {
   "cell_type": "markdown",
   "id": "71e3afdb-c4db-4995-b59a-ab15e3d7663a",
   "metadata": {},
   "source": [
    "In this first scenario, there is a relatively large region peaceful region where total welfare is maximal."
   ]
  },
  {
   "cell_type": "code",
   "execution_count": 3,
   "id": "94a22a5e-607a-4e49-bf6d-dbeca921ea20",
   "metadata": {},
   "outputs": [],
   "source": [
    "c = np.ones(3) * 0.1\n",
    "m = np.array([1.,1.,2.])\n",
    "x = np.array([0.0, 0.3, 1.])\n",
    "x3s = np.linspace(0, 1, 200)\n",
    "Vmax, peace = np.array([analyse(m, c, x, x3)[:-1] for x3 in x3s]).T"
   ]
  },
  {
   "cell_type": "code",
   "execution_count": 4,
   "id": "22de9a9f-b0d1-4b7d-942d-9fde1a813c01",
   "metadata": {},
   "outputs": [
    {
     "data": {
      "image/png": "[encoded data removed]",
      "text/plain": [
       "<Figure size 432x288 with 1 Axes>"
      ]
     },
     "metadata": {
      "needs_background": "light"
     },
     "output_type": "display_data"
    }
   ],
   "source": [
    "plt.plot(x3s, Vmax/max(Vmax), label='$\\sum_i V_i$')\n",
    "plt.plot(x3s, peace, label='peace?')\n",
    "plt.xlabel('$x$')\n",
    "plt.legend()\n",
    "plt.show()"
   ]
  },
  {
   "cell_type": "markdown",
   "id": "d78cc006-d4fb-467a-945b-fbfbb1d15e90",
   "metadata": {},
   "source": [
    "In this second scenario, there is only a tiny region where peace is possible.\n",
    "\n",
    "In fact, it's possible to show that when $c_1=1$, peace is possible iff\n",
    "$$\n",
    "    -6(3c_0 + c_1 + 2c_2) < 2s_1 - 1 < 6(2c_0 + c_1 + 3c_2)\n",
    "$$\n",
    "Uncommenting the line below makes the left inequality break, and peace is no longer an outcome of the model."
   ]
  },
  {
   "cell_type": "code",
   "execution_count": 5,
   "id": "81070a4b-1094-4c44-8108-b179af9794a2",
   "metadata": {},
   "outputs": [],
   "source": [
    "x = np.array([0, 0.05, 1])\n",
    "m = np.ones(3)\n",
    "c = np.array([0.03, 1, 0.03])\n",
    "c_scale_lim = 6*(3*c[0]+c[1]+2*c[2]) / (x[2]-2.*x[1])\n",
    "c /= 1.0001*c_scale_lim\n",
    "# c /= 0.9999*c_scale_lim\n",
    "\n",
    "x3s = np.linspace(0, 1, 200)\n",
    "Vmax, peace = np.array([analyse(m, c, x, x3)[:-1] for x3 in x3s]).T"
   ]
  },
  {
   "cell_type": "code",
   "execution_count": 6,
   "id": "3e0bdbf9-6a22-4a42-979b-9691c6ddd23a",
   "metadata": {},
   "outputs": [
    {
     "data": {
      "image/png": "[encoded data removed]",
      "text/plain": [
       "<Figure size 432x288 with 1 Axes>"
      ]
     },
     "metadata": {
      "needs_background": "light"
     },
     "output_type": "display_data"
    }
   ],
   "source": [
    "plt.plot(x3s, Vmax/max(Vmax), label='$\\sum_i V_i$')\n",
    "plt.plot(x3s, peace, label='peace?')\n",
    "plt.xlabel('$x$')\n",
    "plt.legend()\n",
    "plt.show()"
   ]
  },
  {
   "cell_type": "code",
   "execution_count": null,
   "id": "e95711e8-dec0-4b06-b665-bb38da7e198f",
   "metadata": {},
   "outputs": [],
   "source": []
  }
 ],
 "metadata": {
  "kernelspec": {
   "display_name": "Python 3 (ipykernel)",
   "language": "python",
   "name": "python3"
  },
  "language_info": {
   "codemirror_mode": {
    "name": "ipython",
    "version": 3
   },
   "file_extension": ".py",
   "mimetype": "text/x-python",
   "name": "python",
   "nbconvert_exporter": "python",
   "pygments_lexer": "ipython3",
   "version": "3.9.7"
  }
 },
 "nbformat": 4,
 "nbformat_minor": 5
}
