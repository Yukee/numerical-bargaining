{
 "cells": [
  {
   "cell_type": "code",
   "execution_count": 1,
   "id": "eccbd5a3-fd94-45ed-a4bf-438864eee355",
   "metadata": {},
   "outputs": [],
   "source": [
    "import numpy as np\n",
    "import matplotlib.pyplot as plt\n",
    "import gambit as gb\n",
    "import subprocess\n",
    "import itertools\n",
    "\n",
    "%load_ext autoreload\n",
    "%autoreload 2"
   ]
  },
  {
   "cell_type": "markdown",
   "id": "01d42609-359b-4cba-b382-50997547d38a",
   "metadata": {},
   "source": [
    "# Simple two-player bargaining game\n",
    "In this notebook, we're going to solve the standard one-shot model of bargaining with war as an outside option.\n",
    "## Setting\n",
    "We're implementing a game similar to what's described on pages 9-10 of [Fearon 1995](https://www.jstor.org/stable/2706903).\n",
    "Two players indexed by $i \\in \\{0,1\\}$ bargain over a shareable resource of size 1: $x_0+x_1=1$. Players can either agree on a split $(x_0, x_1=1-x_0)$, or fight a war. Players can unilaterally start the war. If war is the outcome, each player pays a cost $c_i>0$, and player 0 has a probability $p$ of winning. The winner takes all the resources for themselves.\n",
    "## Implementation\n",
    "Bargaining games usually make the assumption that resources and infinitely divisible, which makes the action space in principle continuous. Gambit can unfortunately only deal with finite action spaces.  To circumvent this problem, we're going to implement the game where a mediator proposes a given split $(x, 1-x)$, which players can either accept or reject. This defines a continuous family $\\Gamma(x)$ of discrete games. Varying $x$ allows us to explore the continuum of possible splits.\n",
    "## Results\n",
    "The well-known result is that risk-neutral players strictly prefer splits $x \\in (p-c_0,p+c_1)$ to war. Let's show this numerically!"
   ]
  },
  {
   "cell_type": "markdown",
   "id": "da4dbf00-9ad2-4ffd-b150-6e7eb750a5bd",
   "metadata": {},
   "source": [
    "# Step-by-step construction of the game"
   ]
  },
  {
   "cell_type": "code",
   "execution_count": 2,
   "id": "5f3ab491-e5cb-4112-8c8f-c726dbf4e9d7",
   "metadata": {},
   "outputs": [],
   "source": [
    "# create a game and add players\n",
    "g = gb.Game.new_tree()\n",
    "g.title = \"Mediator_bargaining\"\n",
    "P0 = g.players.add(\"P0\")\n",
    "P1 = g.players.add(\"P1\")\n",
    "# payoff's data type (Gambit can also perform exact arithmetic on rationals)\n",
    "gb_type = gb.Decimal"
   ]
  },
  {
   "cell_type": "code",
   "execution_count": 3,
   "id": "b4e10796-8998-47e8-b583-340c10ebfc20",
   "metadata": {},
   "outputs": [],
   "source": [
    "# choose parameters\n",
    "p = 0.4\n",
    "costs = [0.1, 0.1]\n",
    "x = 0.35"
   ]
  },
  {
   "cell_type": "code",
   "execution_count": 4,
   "id": "1c192a05-793c-464c-a1ff-a61e5dd4a1b8",
   "metadata": {},
   "outputs": [],
   "source": [
    "# compute the payoffs\n",
    "\n",
    "# if war is the outcome\n",
    "war = g.outcomes.add(\"war\")\n",
    "war[0] = gb_type( p - costs[0] )\n",
    "war[1] = gb_type( 1 - p - costs[1] )\n",
    "\n",
    "# if peace is the outcome\n",
    "peace = g.outcomes.add(\"peace\")\n",
    "peace[0] = gb_type(x)\n",
    "peace[1] = gb_type(1 - x)"
   ]
  },
  {
   "cell_type": "code",
   "execution_count": 5,
   "id": "bdf05f91-1139-49c6-a22f-dc281511dda1",
   "metadata": {},
   "outputs": [],
   "source": [
    "# set up the game tree\n",
    "\n",
    "# the game has by default a unique node called \"root\"\n",
    "# we give it two children, and specify that they correspond to actions taken by P0\n",
    "moves = g.root.append_move(P0, 2)\n",
    "moves.label = 'P0decision'\n",
    "moves.actions[0].label = 'accept'\n",
    "moves.actions[1].label = 'fight'\n",
    "\n",
    "# now let's add P1's actions\n",
    "for node in g.root.children:\n",
    "    moves = node.append_move(P1, 2)\n",
    "    moves.label = 'P1decision'\n",
    "    moves.actions[0].label = 'accept'\n",
    "    moves.actions[1].label = 'fight'"
   ]
  },
  {
   "cell_type": "code",
   "execution_count": 6,
   "id": "88197eca-58f9-4d3a-a322-5eaece4f0e4e",
   "metadata": {},
   "outputs": [],
   "source": [
    "# By default, Gambit creates a different information set for each player and action\n",
    "# Let's say that players move simultaneously:\n",
    "# then we need to tell Gambit that P0's actions belong to a single infoset:\n",
    "common_infoset = g.root.children[0].infoset\n",
    "for node in g.root.children:\n",
    "    node.infoset = common_infoset"
   ]
  },
  {
   "cell_type": "code",
   "execution_count": 7,
   "id": "4dde7a52-2a57-4975-81a5-63d6a02c1a27",
   "metadata": {},
   "outputs": [],
   "source": [
    "# Finally, we attach payoffs to the terminal nodes of the gametree\n",
    "for node0, action0 in zip(g.root.children, g.root.infoset.actions):\n",
    "    for node1, action1 in zip(node0.children, node0.infoset.actions):\n",
    "        if (action0.label == 'fight') or (action1.label == 'fight'):\n",
    "            node1.outcome = war\n",
    "        else:\n",
    "            node1.outcome = peace"
   ]
  },
  {
   "cell_type": "code",
   "execution_count": 8,
   "id": "a876afcb-cfcb-4e6e-ad22-4ddbbeefd47b",
   "metadata": {},
   "outputs": [],
   "source": [
    "# Ask Gambit to find all mixed subgame perfect equilibria\n",
    "profiles = gb.nash.lcp_solve(g, use_strategic=True, rational=False)"
   ]
  },
  {
   "cell_type": "code",
   "execution_count": 9,
   "id": "b289f0f3-6947-465b-bcbf-9db778154a4f",
   "metadata": {},
   "outputs": [
    {
     "data": {
      "text/latex": [
       "$\\left[[1.0, 0.0],[1.0, 0.0]\\right]$"
      ],
      "text/plain": [
       "[[1.0, 0.0], [1.0, 0.0]]"
      ]
     },
     "execution_count": 9,
     "metadata": {},
     "output_type": "execute_result"
    }
   ],
   "source": [
    "# There's only one equilibrium:\n",
    "# for this choice of parameters, the equilibrium is peace\n",
    "profiles[0]"
   ]
  },
  {
   "cell_type": "code",
   "execution_count": 10,
   "id": "a0b90afd-e521-40db-9a09-bd27e94d7b10",
   "metadata": {},
   "outputs": [
    {
     "data": {
      "text/plain": [
       "[0.35, 0.65]"
      ]
     },
     "execution_count": 10,
     "metadata": {},
     "output_type": "execute_result"
    }
   ],
   "source": [
    "profiles[0].payoff()"
   ]
  },
  {
   "cell_type": "markdown",
   "id": "fb23ea92-675d-4b3f-a21a-16b45a396b16",
   "metadata": {},
   "source": [
    "# Peaceful bargaining interval\n",
    "Now that we've set up our set of games $\\Gamma(x)$, let's solve them for a bunch of $x$ and see when peace is the outcome."
   ]
  },
  {
   "cell_type": "code",
   "execution_count": 11,
   "id": "7181bdee-197f-458c-8106-3b3b4414d385",
   "metadata": {},
   "outputs": [],
   "source": [
    "def twoplayer_mediator_game(p, c, x):\n",
    "    g = gb.Game.new_tree()\n",
    "    g.title = \"Mediator_bargaining\"\n",
    "    P0 = g.players.add(\"P0\")\n",
    "    P1 = g.players.add(\"P1\")\n",
    "\n",
    "    gb_type = gb.Decimal\n",
    "\n",
    "    # add outcomes\n",
    "    war = g.outcomes.add(\"war\")\n",
    "    war[0] = gb_type( p - c[0] )\n",
    "    war[1] = gb_type( 1. - p - c[1] )\n",
    "\n",
    "    peace = g.outcomes.add(\"peace\")\n",
    "    peace[0] = gb_type(x)\n",
    "    peace[1] = gb_type(1.-x)\n",
    "\n",
    "    moves = g.root.append_move(P0, 2)\n",
    "    moves.label = 'P0decision'\n",
    "    moves.actions[0].label = 'accept'\n",
    "    moves.actions[1].label = 'fight'\n",
    "\n",
    "    for node in g.root.children:\n",
    "        moves = node.append_move(P1, 2)\n",
    "        moves.label = 'P1decision'\n",
    "        moves.actions[0].label = 'accept'\n",
    "        moves.actions[1].label = 'fight'\n",
    "\n",
    "    common_infoset = g.root.children[0].infoset\n",
    "    for node in g.root.children:\n",
    "        node.infoset = common_infoset\n",
    "        \n",
    "    for node0, action0 in zip(g.root.children, g.root.infoset.actions):\n",
    "        for node1, action1 in zip(node0.children, node0.infoset.actions):\n",
    "            if (action0.label == 'fight') or (action1.label == 'fight'):\n",
    "                node1.outcome = war\n",
    "            else:\n",
    "                node1.outcome = peace\n",
    "    \n",
    "    return g"
   ]
  },
  {
   "cell_type": "code",
   "execution_count": 12,
   "id": "58422aa0-a2ef-4f56-8abc-dae64462fb00",
   "metadata": {},
   "outputs": [],
   "source": [
    "def get_payoffs(g):\n",
    "    profiles = gb.nash.lcp_solve(g, use_strategic=True, rational=False)\n",
    "    assert len(profiles) == 1, \"More than one equilibrium found\"\n",
    "    return profiles[0].payoff()\n",
    "\n",
    "def twoplayer_mediator(p, c, x):\n",
    "    return get_payoffs(twoplayer_mediator_game(p, costs, x))"
   ]
  },
  {
   "cell_type": "code",
   "execution_count": 13,
   "id": "f15f5515-24d1-4303-8f20-ec96ad067b71",
   "metadata": {},
   "outputs": [],
   "source": [
    "p = 0.2\n",
    "costs = [0.1, 0.1]\n",
    "xs = np.linspace(0,1, 200)\n",
    "payoffs = np.array([twoplayer_mediator(p, costs, x) for x in xs])\n",
    "V0, V1 = payoffs.T"
   ]
  },
  {
   "cell_type": "code",
   "execution_count": 19,
   "id": "ac28708b-b06d-4af9-afa1-e12c859811d9",
   "metadata": {},
   "outputs": [
    {
     "data": {
      "image/png": "[encoded data removed]",
      "text/plain": [
       "<Figure size 432x288 with 1 Axes>"
      ]
     },
     "metadata": {
      "needs_background": "light"
     },
     "output_type": "display_data"
    }
   ],
   "source": [
    "plt.plot(xs, V0, label='$V_0$')\n",
    "plt.axvline(p-costs[0], color='tab:blue', ls='dashed', label='$p-c_0$')\n",
    "plt.plot(xs, V1, label='$V_1$')\n",
    "plt.axvline(p+costs[1], color='tab:orange', ls='dashed', label='$p+c_1$')\n",
    "plt.xlabel('$x$')\n",
    "plt.ylim(0, 1)\n",
    "plt.legend()\n",
    "plt.show()"
   ]
  },
  {
   "cell_type": "code",
   "execution_count": null,
   "id": "e0caa6fa-63f5-4e29-9676-bbb7611e00c6",
   "metadata": {},
   "outputs": [],
   "source": []
  }
 ],
 "metadata": {
  "kernelspec": {
   "display_name": "Python 3 (ipykernel)",
   "language": "python",
   "name": "python3"
  },
  "language_info": {
   "codemirror_mode": {
    "name": "ipython",
    "version": 3
   },
   "file_extension": ".py",
   "mimetype": "text/x-python",
   "name": "python",
   "nbconvert_exporter": "python",
   "pygments_lexer": "ipython3",
   "version": "3.9.7"
  }
 },
 "nbformat": 4,
 "nbformat_minor": 5
}
